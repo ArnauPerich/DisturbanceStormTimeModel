{
 "cells": [
  {
   "cell_type": "markdown",
   "metadata": {},
   "source": [
    "# Quantile Regression \n",
    "\n",
    "This file contains the implementation of all the sintetic examples that have been used in Chapter 3."
   ]
  },
  {
   "cell_type": "markdown",
   "metadata": {},
   "source": [
    "### 1. Libraries"
   ]
  },
  {
   "cell_type": "code",
   "execution_count": null,
   "metadata": {},
   "outputs": [],
   "source": [
    "# General libraries\n",
    "import numpy as np\n",
    "import matplotlib.pyplot as plt\n",
    "import seaborn as sns\n",
    "\n",
    "# Linear Model\n",
    "from sklearn.linear_model import LinearRegression, QuantileRegressor\n",
    "\n",
    "# Neural Network\n",
    "import tensorflow as tf\n",
    "from tensorflow.keras.models import Sequential\n",
    "from tensorflow.keras.layers import Dense\n",
    "import tensorflow.keras.backend as K\n",
    "\n",
    "# Setting the style for seaborn plots\n",
    "sns.set(style=\"white\")"
   ]
  },
  {
   "cell_type": "markdown",
   "metadata": {},
   "source": [
    "### 2. Linear Quantile Regression"
   ]
  },
  {
   "cell_type": "markdown",
   "metadata": {},
   "source": [
    "Firstly, the sample is set."
   ]
  },
  {
   "cell_type": "code",
   "execution_count": null,
   "metadata": {},
   "outputs": [],
   "source": [
    "# Set seed for reproducibility\n",
    "np.random.seed(123)\n",
    "\n",
    "# Generate synthetic data\n",
    "sample_normal_1 = np.random.normal(-5, 1, 1000)\n",
    "sample_normal_2 = np.random.normal(5, 1, 1000)\n",
    "error = np.concatenate((sample_normal_1, sample_normal_2))\n",
    "\n",
    "x = np.random.normal(0, 1, 2000)\n",
    "x_reshape = x.reshape(-1, 1)\n",
    "\n",
    "b0 = 1\n",
    "b1 = 3\n",
    "y = b0 + b1*x + error\n",
    "y_reshape = y.reshape(-1, 1)"
   ]
  },
  {
   "cell_type": "markdown",
   "metadata": {},
   "source": [
    "The histogram of y is computed."
   ]
  },
  {
   "cell_type": "code",
   "execution_count": null,
   "metadata": {},
   "outputs": [],
   "source": [
    "# Plot histogram of y\n",
    "plt.figure(figsize=(10, 10/1.618))\n",
    "plt.hist(y, bins=100, alpha=0.8, color='skyblue', edgecolor='skyblue')\n",
    "plt.gca().spines['top'].set_linewidth(1.618)\n",
    "plt.gca().spines['right'].set_linewidth(1.618)\n",
    "plt.gca().spines['bottom'].set_linewidth(1.618)\n",
    "plt.gca().spines['left'].set_linewidth(1.618)\n",
    "plt.show()"
   ]
  },
  {
   "cell_type": "markdown",
   "metadata": {},
   "source": [
    "A linear model with least squares loss function is computed."
   ]
  },
  {
   "cell_type": "code",
   "execution_count": null,
   "metadata": {},
   "outputs": [],
   "source": [
    "# Fit a linear regression model\n",
    "model_1 = LinearRegression()\n",
    "model_1.fit(x_reshape, y)\n",
    "\n",
    "b0_hat = model_1.intercept_\n",
    "b1_hat = model_1.coef_[0]\n",
    "\n",
    "print((b0_hat, b1_hat))\n",
    "\n",
    "# Plot the data and the linear regression line\n",
    "plt.figure(figsize=(10, 10/1.618))\n",
    "plt.scatter(x, y, alpha=0.5, color=\"skyblue\")\n",
    "x_vals = np.array([x.min(), x.max()])\n",
    "y_vals = b0_hat + b1_hat * x_vals\n",
    "plt.plot(x_vals, y_vals, color='tomato')\n",
    "plt.xlabel('x')\n",
    "plt.ylabel('y')\n",
    "plt.gca().spines['top'].set_linewidth(1.618)\n",
    "plt.gca().spines['right'].set_linewidth(1.618)\n",
    "plt.gca().spines['bottom'].set_linewidth(1.618)\n",
    "plt.gca().spines['left'].set_linewidth(1.618)\n",
    "plt.show()\n"
   ]
  },
  {
   "cell_type": "markdown",
   "metadata": {},
   "source": [
    "Besides, a linear model with quantile regression loss function is computed. It is shown many lines, corresponding to each quantile."
   ]
  },
  {
   "cell_type": "code",
   "execution_count": null,
   "metadata": {},
   "outputs": [],
   "source": [
    "plt.figure(figsize=(10, 10/1.618))\n",
    "\n",
    "plt.scatter(x, y, alpha=0.5, color=\"skyblue\")\n",
    "\n",
    "colormap = plt.cm.Reds\n",
    "colors = [colormap(i / 8) for i in range(9)]\n",
    "\n",
    "x_test = 1\n",
    "y_test = []\n",
    "\n",
    "div = 0.05\n",
    "\n",
    "# Loop over quantiles and fit quantile regression models\n",
    "for quantile in np.arange(div, 1, div):\n",
    "    model_2 = QuantileRegressor(quantile=quantile, alpha=0)\n",
    "    model_2.fit(x_reshape, y)\n",
    "\n",
    "    b0_hat = model_2.intercept_\n",
    "    b1_hat = model_2.coef_[0]\n",
    "\n",
    "    y_test.append(b0_hat + b1_hat * x_test)\n",
    "\n",
    "    x_vals = np.array([x.min(), x.max()])\n",
    "    y_vals = b0_hat + b1_hat * x_vals\n",
    "\n",
    "    plt.plot(x_vals, y_vals, color=colors[int(quantile / 0.1 - 1)], alpha=0.8)\n",
    "\n",
    "plt.xlabel('x')\n",
    "plt.ylabel('y')\n",
    "plt.gca().spines['top'].set_linewidth(1.618)\n",
    "plt.gca().spines['right'].set_linewidth(1.618)\n",
    "plt.gca().spines['bottom'].set_linewidth(1.618)\n",
    "plt.gca().spines['left'].set_linewidth(1.618)\n",
    "plt.show()"
   ]
  },
  {
   "cell_type": "markdown",
   "metadata": {},
   "source": [
    "Finally, the model is used with more quantiles so as to compute the density function."
   ]
  },
  {
   "cell_type": "code",
   "execution_count": null,
   "metadata": {},
   "outputs": [],
   "source": [
    "alturas = div/np.diff(y_test)\n",
    "\n",
    "puntos_inicio = y_test[:-1]\n",
    "puntos_fin = y_test[1:]\n",
    "centros = []\n",
    "\n",
    "plt.figure(figsize=(10, 10/1.618))\n",
    "\n",
    "sns.kdeplot(b0+b1*1+error, fill = True,color=\"tomato\", zorder=3)\n",
    "\n",
    "for inicio, fin, altura in zip(puntos_inicio, puntos_fin, alturas):\n",
    "    centro_x = (inicio + fin) / 2\n",
    "    centros.append(centro_x)\n",
    "    ancho = fin - inicio\n",
    "    plt.bar(centro_x, altura, width=ancho, color='skyblue', edgecolor='skyblue', alpha=0.7)\n",
    "\n",
    "\n",
    "plt.ylabel('')\n",
    "plt.gca().spines['top'].set_linewidth(1.618)   \n",
    "plt.gca().spines['right'].set_linewidth(1.618)  \n",
    "plt.gca().spines['bottom'].set_linewidth(1.618) \n",
    "plt.gca().spines['left'].set_linewidth(1.618)  \n",
    "plt.show()\n"
   ]
  },
  {
   "cell_type": "markdown",
   "metadata": {},
   "source": [
    "### 3. Quantile Neural Network"
   ]
  },
  {
   "cell_type": "markdown",
   "metadata": {},
   "source": [
    "The new sample is set."
   ]
  },
  {
   "cell_type": "code",
   "execution_count": null,
   "metadata": {},
   "outputs": [],
   "source": [
    "# Set seed for reproducibility\n",
    "np.random.seed(123)\n",
    "\n",
    "# Generate synthetic data\n",
    "normal_sample_1 = np.random.normal(-5, 1, 1000)\n",
    "normal_sample_2 = np.random.normal(5, 1, 1000)\n",
    "error = np.concatenate((normal_sample_1, normal_sample_2))\n",
    "\n",
    "x = np.random.uniform(-5, 5, 2000)\n",
    "x_reshape = x.reshape(-1, 1)\n",
    "x_sort = np.sort(x)\n",
    "x_sort_reshape = x_sort.reshape(-1, 1)\n",
    "\n",
    "y = x**2 + error\n",
    "y_reshape = y.reshape(-1, 1)"
   ]
  },
  {
   "cell_type": "markdown",
   "metadata": {},
   "source": [
    "The Y histogram is computed."
   ]
  },
  {
   "cell_type": "code",
   "execution_count": null,
   "metadata": {},
   "outputs": [],
   "source": [
    "plt.figure(figsize=(10, 10/1.618))\n",
    "\n",
    "plt.hist(y, bins=100, alpha=0.8, color='skyblue', edgecolor='skyblue')\n",
    "\n",
    "plt.gca().spines['top'].set_linewidth(1.618)   \n",
    "plt.gca().spines['right'].set_linewidth(1.618)  \n",
    "plt.gca().spines['bottom'].set_linewidth(1.618) \n",
    "plt.gca().spines['left'].set_linewidth(1.618)   \n",
    "plt.show()"
   ]
  },
  {
   "cell_type": "markdown",
   "metadata": {},
   "source": [
    "The new loss function is defined (there is no library that has the quantile loss function implemented)"
   ]
  },
  {
   "cell_type": "code",
   "execution_count": null,
   "metadata": {},
   "outputs": [],
   "source": [
    "def quantile_loss(quantile, y_true, y_pred):\n",
    "    error = y_true - y_pred\n",
    "    return tf.reduce_mean(tf.maximum(quantile*error, (quantile-1)*error), axis=-1)"
   ]
  },
  {
   "cell_type": "markdown",
   "metadata": {},
   "source": [
    "A neural network is computed, using quantile regression loss function with different quantiles. The result is shown, as well as the sample point."
   ]
  },
  {
   "cell_type": "code",
   "execution_count": null,
   "metadata": {},
   "outputs": [],
   "source": [
    "quantiles = [0.25, 0.40, 0.60, 0.75]\n",
    "predictions = {}\n",
    "\n",
    "# Fit models for each quantile and make predictions\n",
    "for q in quantiles:\n",
    "    model = Sequential([\n",
    "        Dense(10, activation='relu', input_shape=(x_reshape.shape[1],)),\n",
    "        Dense(10, activation='relu'),\n",
    "        Dense(10, activation='relu'),\n",
    "        Dense(1, activation='linear')\n",
    "    ])\n",
    "\n",
    "    model.compile(optimizer='adam', loss=lambda y_true, y_pred: quantile_loss(q, y_true, y_pred))\n",
    "\n",
    "    model.fit(x_reshape, y_reshape, epochs=100, batch_size=32, verbose=0)\n",
    "    \n",
    "    predictions[q] = model.predict(np.linspace(x.min(), x.max(), 500).reshape(-1, 1))\n",
    "\n",
    "plt.figure(figsize=(10, 6))\n",
    "\n",
    "plt.scatter(x, y, color='skyblue', alpha=0.6)\n",
    "\n",
    "colors = [\"tomato\", \"r\", \"red\", \"brown\"]\n",
    "\n",
    "# Plot each quantile prediction\n",
    "for i, q in enumerate(quantiles):\n",
    "    plt.plot(np.linspace(x.min(), x.max(), 500), predictions[q], label=f'Quantile {q}', color=colors[i])\n",
    "\n",
    "plt.xlabel('X')\n",
    "plt.ylabel('Y')\n",
    "plt.legend()\n",
    "plt.gca().spines['top'].set_linewidth(1.618)\n",
    "plt.gca().spines['right'].set_linewidth(1.618)\n",
    "plt.gca().spines['bottom'].set_linewidth(1.618)\n",
    "plt.gca().spines['left'].set_linewidth(1.618)\n",
    "plt.show()"
   ]
  },
  {
   "cell_type": "markdown",
   "metadata": {},
   "source": [
    "Finally, the model is used with more quantiles so as to apply it to a new observation and compute the density function."
   ]
  },
  {
   "cell_type": "code",
   "execution_count": null,
   "metadata": {},
   "outputs": [],
   "source": [
    "x_test = 1\n",
    "y_test = []\n",
    "\n",
    "div = 0.1\n",
    "quantiles = np.concatenate(([0.001], np.arange(div, 1, div), [0.999]))\n",
    "\n",
    "# Fit models for each quantile and make predictions for x_test\n",
    "for q in quantiles:\n",
    "    model = Sequential([\n",
    "        Dense(10, activation='relu', input_shape=(x_reshape.shape[1],)),\n",
    "        Dense(10, activation='relu'),\n",
    "        Dense(10, activation='relu'),\n",
    "        Dense(1, activation='linear')\n",
    "    ])\n",
    "\n",
    "    model.compile(optimizer='adam', loss=lambda y_true, y_pred: quantile_loss(q, y_true, y_pred))\n",
    "\n",
    "    model.fit(x_reshape, y_reshape, epochs=100, batch_size=32, verbose=0)\n",
    "    \n",
    "    y_test.append(model.predict(np.array([x_test]).reshape(-1, 1)).flatten()[0])\n",
    "\n",
    "heights = np.diff(quantiles)/np.diff(y_test)\n",
    "\n",
    "start_points = y_test[:-1]\n",
    "end_points = y_test[1:]\n",
    "\n",
    "plt.figure(figsize=(10, 10/1.618))\n",
    "\n",
    "# Plot the bars\n",
    "for start, end, height in zip(start_points, end_points, heights):\n",
    "    center_x = (start + end)/2\n",
    "    width = end - start\n",
    "    \n",
    "    plt.bar(center_x, height, width=width, color='skyblue', edgecolor='skyblue', alpha=0.7)\n",
    " \n",
    "plt.xlabel('Y')\n",
    "\n",
    "# Plot the KDE\n",
    "sns.kdeplot(x_test**2 + error, fill=True, color=\"tomato\", zorder=3)\n",
    "\n",
    "plt.gca().spines['top'].set_linewidth(1.618)\n",
    "plt.gca().spines['right'].set_linewidth(1.618)\n",
    "plt.gca().spines['bottom'].set_linewidth(1.618)\n",
    "plt.gca().spines['left'].set_linewidth(1.618)\n",
    "plt.ylim(bottom=0)\n",
    "plt.show()"
   ]
  },
  {
   "cell_type": "markdown",
   "metadata": {},
   "source": [
    "### 4. Quantile Crossing Problem"
   ]
  },
  {
   "cell_type": "markdown",
   "metadata": {},
   "source": [
    "The new loss function is defined."
   ]
  },
  {
   "cell_type": "code",
   "execution_count": null,
   "metadata": {},
   "outputs": [],
   "source": [
    "def QuantileLoss(perc, delta=1e-4):\n",
    "    perc = np.array(perc).reshape(-1)\n",
    "    perc.sort()\n",
    "    perc = perc.reshape(1, -1)\n",
    "    def _qloss(y, pred):\n",
    "        I = tf.cast(y <= pred, tf.float32)\n",
    "        d = K.abs(y - pred)\n",
    "        correction = I*(1 - perc) + (1 - I) * perc\n",
    "        # huber loss\n",
    "        huber_loss = K.sum(correction*tf.where(d <= delta, 0.5*d**2 / delta, d - 0.5*delta), -1)\n",
    "        # order loss\n",
    "        q_order_loss = K.sum(K.maximum(0.0, pred[:, :-1] - pred[:, 1:] + 1e-2), -1)\n",
    "        return huber_loss + q_order_loss\n",
    "    return _qloss"
   ]
  },
  {
   "cell_type": "markdown",
   "metadata": {},
   "source": [
    "As it has been done with the other neural network, firstly the model is computed with some quantiles."
   ]
  },
  {
   "cell_type": "code",
   "execution_count": null,
   "metadata": {},
   "outputs": [],
   "source": [
    "quantiles = [0.25, 0.40, 0.60, 0.75]\n",
    "\n",
    "# Define and compile the model\n",
    "model = Sequential([\n",
    "    Dense(256, activation='relu'),\n",
    "    Dense(128, activation='relu'),\n",
    "    Dense(64, activation='relu'),\n",
    "    Dense(len(quantiles))\n",
    "])\n",
    "model.compile(optimizer='adam', loss=QuantileLoss(quantiles))\n",
    "\n",
    "model.fit(x_reshape, y_reshape, epochs=100, verbose=0)\n",
    "\n",
    "predictions = model.predict(np.linspace(x.min(), x.max(), 500).reshape(-1, 1))\n",
    "\n",
    "plt.figure(figsize=(10, 6))\n",
    "\n",
    "plt.scatter(x, y, color='skyblue', alpha=0.6)\n",
    "\n",
    "colors = [\"tomato\", \"r\", \"red\", \"brown\"]\n",
    "\n",
    "for i in range(len(quantiles)):\n",
    "    plt.plot(np.linspace(x.min(), x.max(), 500), predictions[:, i], label=f'Quantile {quantiles[i]}', color=colors[i])\n",
    "\n",
    "plt.xlabel('X')\n",
    "plt.ylabel('Y')\n",
    "plt.legend()\n",
    "plt.gca().spines['top'].set_linewidth(1.618)\n",
    "plt.gca().spines['right'].set_linewidth(1.618)\n",
    "plt.gca().spines['bottom'].set_linewidth(1.618)\n",
    "plt.gca().spines['left'].set_linewidth(1.618)\n",
    "plt.show()"
   ]
  },
  {
   "cell_type": "markdown",
   "metadata": {},
   "source": [
    "Finally, the model is used to describe the density function of a new observation."
   ]
  },
  {
   "cell_type": "code",
   "execution_count": null,
   "metadata": {},
   "outputs": [],
   "source": [
    "div = 0.01\n",
    "quantiles = np.concatenate(([0.001], np.arange(div, 1, div), [0.999]))\n",
    "\n",
    "x_test = 1\n",
    "\n",
    "# Define and compile the model\n",
    "model = Sequential([\n",
    "    Dense(256, activation='relu'),\n",
    "    Dense(128, activation='relu'),\n",
    "    Dense(64, activation='relu'),\n",
    "    Dense(len(quantiles))\n",
    "])\n",
    "model.compile(optimizer='adam', loss=QuantileLoss(quantiles))\n",
    "\n",
    "model.fit(x_reshape, y_reshape, epochs=100, verbose=1)\n",
    "\n",
    "y_test = model.predict(np.array([x_test]).reshape(-1, 1)).flatten()\n",
    "\n",
    "heights = np.diff(quantiles[::2]) / np.diff(y_test[::2])\n",
    "heights = np.array([x if x > 0 else 0 for x in heights])\n",
    "\n",
    "start_points = y_test[::2][:-1]\n",
    "end_points = y_test[::2][1:]\n",
    "\n",
    "plt.figure(figsize=(10, 10/1.618))\n",
    "\n",
    "# Plot the bars\n",
    "for start, end, height in zip(start_points, end_points, heights):\n",
    "    center_x = (start + end)/2\n",
    "    width = end - start\n",
    "    \n",
    "    plt.bar(center_x, height, width=width, color='skyblue', edgecolor='skyblue', alpha=0.7)\n",
    " \n",
    "plt.xlabel('Y')\n",
    "\n",
    "# Plot the KDE\n",
    "sns.kdeplot(x_test**2 + error, fill=True, color=\"tomato\", zorder=3)\n",
    "\n",
    "plt.gca().spines['top'].set_linewidth(1.618)\n",
    "plt.gca().spines['right'].set_linewidth(1.618)\n",
    "plt.gca().spines['bottom'].set_linewidth(1.618)\n",
    "plt.gca().spines['left'].set_linewidth(1.618)\n",
    "plt.ylim(bottom=0)\n",
    "plt.show()"
   ]
  }
 ],
 "metadata": {
  "kernelspec": {
   "display_name": "Python 3",
   "language": "python",
   "name": "python3"
  },
  "language_info": {
   "codemirror_mode": {
    "name": "ipython",
    "version": 3
   },
   "file_extension": ".py",
   "mimetype": "text/x-python",
   "name": "python",
   "nbconvert_exporter": "python",
   "pygments_lexer": "ipython3",
   "version": "3.9.10"
  }
 },
 "nbformat": 4,
 "nbformat_minor": 2
}
